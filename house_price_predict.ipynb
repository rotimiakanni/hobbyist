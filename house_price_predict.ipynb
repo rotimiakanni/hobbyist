{
 "cells": [
  {
   "cell_type": "code",
   "execution_count": 1,
   "metadata": {},
   "outputs": [],
   "source": [
    "import numpy as np \n",
    "import pandas as pd\n",
    "import matplotlib.pyplot as plt\n",
    "from sklearn.model_selection import train_test_split\n"
   ]
  },
  {
   "cell_type": "code",
   "execution_count": 3,
   "metadata": {},
   "outputs": [
    {
     "data": {
      "text/html": [
       "<div>\n",
       "<style scoped>\n",
       "    .dataframe tbody tr th:only-of-type {\n",
       "        vertical-align: middle;\n",
       "    }\n",
       "\n",
       "    .dataframe tbody tr th {\n",
       "        vertical-align: top;\n",
       "    }\n",
       "\n",
       "    .dataframe thead th {\n",
       "        text-align: right;\n",
       "    }\n",
       "</style>\n",
       "<table border=\"1\" class=\"dataframe\">\n",
       "  <thead>\n",
       "    <tr style=\"text-align: right;\">\n",
       "      <th></th>\n",
       "      <th>Id</th>\n",
       "      <th>MSSubClass</th>\n",
       "      <th>MSZoning</th>\n",
       "      <th>LotFrontage</th>\n",
       "      <th>LotArea</th>\n",
       "      <th>Street</th>\n",
       "      <th>Alley</th>\n",
       "      <th>LotShape</th>\n",
       "      <th>LandContour</th>\n",
       "      <th>Utilities</th>\n",
       "      <th>...</th>\n",
       "      <th>PoolArea</th>\n",
       "      <th>PoolQC</th>\n",
       "      <th>Fence</th>\n",
       "      <th>MiscFeature</th>\n",
       "      <th>MiscVal</th>\n",
       "      <th>MoSold</th>\n",
       "      <th>YrSold</th>\n",
       "      <th>SaleType</th>\n",
       "      <th>SaleCondition</th>\n",
       "      <th>SalePrice</th>\n",
       "    </tr>\n",
       "  </thead>\n",
       "  <tbody>\n",
       "    <tr>\n",
       "      <th>0</th>\n",
       "      <td>1</td>\n",
       "      <td>60</td>\n",
       "      <td>RL</td>\n",
       "      <td>65.0</td>\n",
       "      <td>8450</td>\n",
       "      <td>Pave</td>\n",
       "      <td>NaN</td>\n",
       "      <td>Reg</td>\n",
       "      <td>Lvl</td>\n",
       "      <td>AllPub</td>\n",
       "      <td>...</td>\n",
       "      <td>0</td>\n",
       "      <td>NaN</td>\n",
       "      <td>NaN</td>\n",
       "      <td>NaN</td>\n",
       "      <td>0</td>\n",
       "      <td>2</td>\n",
       "      <td>2008</td>\n",
       "      <td>WD</td>\n",
       "      <td>Normal</td>\n",
       "      <td>208500</td>\n",
       "    </tr>\n",
       "    <tr>\n",
       "      <th>1</th>\n",
       "      <td>2</td>\n",
       "      <td>20</td>\n",
       "      <td>RL</td>\n",
       "      <td>80.0</td>\n",
       "      <td>9600</td>\n",
       "      <td>Pave</td>\n",
       "      <td>NaN</td>\n",
       "      <td>Reg</td>\n",
       "      <td>Lvl</td>\n",
       "      <td>AllPub</td>\n",
       "      <td>...</td>\n",
       "      <td>0</td>\n",
       "      <td>NaN</td>\n",
       "      <td>NaN</td>\n",
       "      <td>NaN</td>\n",
       "      <td>0</td>\n",
       "      <td>5</td>\n",
       "      <td>2007</td>\n",
       "      <td>WD</td>\n",
       "      <td>Normal</td>\n",
       "      <td>181500</td>\n",
       "    </tr>\n",
       "    <tr>\n",
       "      <th>2</th>\n",
       "      <td>3</td>\n",
       "      <td>60</td>\n",
       "      <td>RL</td>\n",
       "      <td>68.0</td>\n",
       "      <td>11250</td>\n",
       "      <td>Pave</td>\n",
       "      <td>NaN</td>\n",
       "      <td>IR1</td>\n",
       "      <td>Lvl</td>\n",
       "      <td>AllPub</td>\n",
       "      <td>...</td>\n",
       "      <td>0</td>\n",
       "      <td>NaN</td>\n",
       "      <td>NaN</td>\n",
       "      <td>NaN</td>\n",
       "      <td>0</td>\n",
       "      <td>9</td>\n",
       "      <td>2008</td>\n",
       "      <td>WD</td>\n",
       "      <td>Normal</td>\n",
       "      <td>223500</td>\n",
       "    </tr>\n",
       "    <tr>\n",
       "      <th>3</th>\n",
       "      <td>4</td>\n",
       "      <td>70</td>\n",
       "      <td>RL</td>\n",
       "      <td>60.0</td>\n",
       "      <td>9550</td>\n",
       "      <td>Pave</td>\n",
       "      <td>NaN</td>\n",
       "      <td>IR1</td>\n",
       "      <td>Lvl</td>\n",
       "      <td>AllPub</td>\n",
       "      <td>...</td>\n",
       "      <td>0</td>\n",
       "      <td>NaN</td>\n",
       "      <td>NaN</td>\n",
       "      <td>NaN</td>\n",
       "      <td>0</td>\n",
       "      <td>2</td>\n",
       "      <td>2006</td>\n",
       "      <td>WD</td>\n",
       "      <td>Abnorml</td>\n",
       "      <td>140000</td>\n",
       "    </tr>\n",
       "    <tr>\n",
       "      <th>4</th>\n",
       "      <td>5</td>\n",
       "      <td>60</td>\n",
       "      <td>RL</td>\n",
       "      <td>84.0</td>\n",
       "      <td>14260</td>\n",
       "      <td>Pave</td>\n",
       "      <td>NaN</td>\n",
       "      <td>IR1</td>\n",
       "      <td>Lvl</td>\n",
       "      <td>AllPub</td>\n",
       "      <td>...</td>\n",
       "      <td>0</td>\n",
       "      <td>NaN</td>\n",
       "      <td>NaN</td>\n",
       "      <td>NaN</td>\n",
       "      <td>0</td>\n",
       "      <td>12</td>\n",
       "      <td>2008</td>\n",
       "      <td>WD</td>\n",
       "      <td>Normal</td>\n",
       "      <td>250000</td>\n",
       "    </tr>\n",
       "  </tbody>\n",
       "</table>\n",
       "<p>5 rows × 81 columns</p>\n",
       "</div>"
      ],
      "text/plain": [
       "   Id  MSSubClass MSZoning  LotFrontage  LotArea Street Alley LotShape  \\\n",
       "0   1          60       RL         65.0     8450   Pave   NaN      Reg   \n",
       "1   2          20       RL         80.0     9600   Pave   NaN      Reg   \n",
       "2   3          60       RL         68.0    11250   Pave   NaN      IR1   \n",
       "3   4          70       RL         60.0     9550   Pave   NaN      IR1   \n",
       "4   5          60       RL         84.0    14260   Pave   NaN      IR1   \n",
       "\n",
       "  LandContour Utilities    ...     PoolArea PoolQC Fence MiscFeature MiscVal  \\\n",
       "0         Lvl    AllPub    ...            0    NaN   NaN         NaN       0   \n",
       "1         Lvl    AllPub    ...            0    NaN   NaN         NaN       0   \n",
       "2         Lvl    AllPub    ...            0    NaN   NaN         NaN       0   \n",
       "3         Lvl    AllPub    ...            0    NaN   NaN         NaN       0   \n",
       "4         Lvl    AllPub    ...            0    NaN   NaN         NaN       0   \n",
       "\n",
       "  MoSold YrSold  SaleType  SaleCondition  SalePrice  \n",
       "0      2   2008        WD         Normal     208500  \n",
       "1      5   2007        WD         Normal     181500  \n",
       "2      9   2008        WD         Normal     223500  \n",
       "3      2   2006        WD        Abnorml     140000  \n",
       "4     12   2008        WD         Normal     250000  \n",
       "\n",
       "[5 rows x 81 columns]"
      ]
     },
     "execution_count": 3,
     "metadata": {},
     "output_type": "execute_result"
    }
   ],
   "source": [
    "train_dataset = pd.read_csv('trainHousePrice.csv')\n",
    "test_dataset = pd.read_csv('testHousePrice.csv')\n",
    "train_dataset.head()"
   ]
  },
  {
   "cell_type": "code",
   "execution_count": 22,
   "metadata": {},
   "outputs": [
    {
     "data": {
      "text/plain": [
       "(1460, 81)"
      ]
     },
     "execution_count": 22,
     "metadata": {},
     "output_type": "execute_result"
    }
   ],
   "source": [
    "train_dataset.shape"
   ]
  },
  {
   "cell_type": "code",
   "execution_count": 23,
   "metadata": {},
   "outputs": [
    {
     "data": {
      "text/plain": [
       "count      1460.000000\n",
       "mean     180921.195890\n",
       "std       79442.502883\n",
       "min       34900.000000\n",
       "25%      129975.000000\n",
       "50%      163000.000000\n",
       "75%      214000.000000\n",
       "max      755000.000000\n",
       "Name: SalePrice, dtype: float64"
      ]
     },
     "execution_count": 23,
     "metadata": {},
     "output_type": "execute_result"
    }
   ],
   "source": [
    "train_dataset.SalePrice.describe()"
   ]
  },
  {
   "cell_type": "code",
   "execution_count": 5,
   "metadata": {},
   "outputs": [
    {
     "data": {
      "text/plain": [
       "(array([148., 723., 373., 135.,  51.,  19.,   4.,   3.,   2.,   2.]),\n",
       " array([ 34900., 106910., 178920., 250930., 322940., 394950., 466960.,\n",
       "        538970., 610980., 682990., 755000.]),\n",
       " <a list of 10 Patch objects>)"
      ]
     },
     "execution_count": 5,
     "metadata": {},
     "output_type": "execute_result"
    },
    {
     "data": {
      "image/png": "[encoded data removed]",
      "text/plain": [
       "<Figure size 432x288 with 1 Axes>"
      ]
     },
     "metadata": {
      "needs_background": "light"
     },
     "output_type": "display_data"
    }
   ],
   "source": [
    "plt.hist(train_dataset.SalePrice, color='green')"
   ]
  },
  {
   "cell_type": "code",
   "execution_count": 19,
   "metadata": {},
   "outputs": [
    {
     "name": "stdout",
     "output_type": "stream",
     "text": [
      "(1460,)\n",
      "(1460,)\n",
      "0    12.247694\n",
      "1    12.109011\n",
      "2    12.317167\n",
      "3    11.849398\n",
      "4    12.429216\n",
      "Name: SalePrice, dtype: float64\n",
      "0    208500\n",
      "1    181500\n",
      "2    223500\n",
      "3    140000\n",
      "4    250000\n",
      "Name: SalePrice, dtype: int64\n",
      "count    1460.000000\n",
      "mean       12.024051\n",
      "std         0.399452\n",
      "min        10.460242\n",
      "25%        11.775097\n",
      "50%        12.001505\n",
      "75%        12.273731\n",
      "max        13.534473\n",
      "Name: SalePrice, dtype: float64\n",
      "count      1460.000000\n",
      "mean     180921.195890\n",
      "std       79442.502883\n",
      "min       34900.000000\n",
      "25%      129975.000000\n",
      "50%      163000.000000\n",
      "75%      214000.000000\n",
      "max      755000.000000\n",
      "Name: SalePrice, dtype: float64\n"
     ]
    },
    {
     "data": {
      "image/png": "[encoded data removed]",
      "text/plain": [
       "<Figure size 432x288 with 1 Axes>"
      ]
     },
     "metadata": {
      "needs_background": "light"
     },
     "output_type": "display_data"
    }
   ],
   "source": [
    "label = np.log(train_dataset.SalePrice)\n",
    "plt.hist(label, color='green')\n"
   ]
  },
  {
   "cell_type": "code",
   "execution_count": 27,
   "metadata": {},
   "outputs": [
    {
     "data": {
      "text/plain": [
       "Id                 int64\n",
       "MSSubClass         int64\n",
       "LotFrontage      float64\n",
       "LotArea            int64\n",
       "OverallQual        int64\n",
       "OverallCond        int64\n",
       "YearBuilt          int64\n",
       "YearRemodAdd       int64\n",
       "MasVnrArea       float64\n",
       "BsmtFinSF1         int64\n",
       "BsmtFinSF2         int64\n",
       "BsmtUnfSF          int64\n",
       "TotalBsmtSF        int64\n",
       "1stFlrSF           int64\n",
       "2ndFlrSF           int64\n",
       "LowQualFinSF       int64\n",
       "GrLivArea          int64\n",
       "BsmtFullBath       int64\n",
       "BsmtHalfBath       int64\n",
       "FullBath           int64\n",
       "HalfBath           int64\n",
       "BedroomAbvGr       int64\n",
       "KitchenAbvGr       int64\n",
       "TotRmsAbvGrd       int64\n",
       "Fireplaces         int64\n",
       "GarageYrBlt      float64\n",
       "GarageCars         int64\n",
       "GarageArea         int64\n",
       "WoodDeckSF         int64\n",
       "OpenPorchSF        int64\n",
       "EnclosedPorch      int64\n",
       "3SsnPorch          int64\n",
       "ScreenPorch        int64\n",
       "PoolArea           int64\n",
       "MiscVal            int64\n",
       "MoSold             int64\n",
       "YrSold             int64\n",
       "SalePrice          int64\n",
       "dtype: object"
      ]
     },
     "execution_count": 27,
     "metadata": {},
     "output_type": "execute_result"
    }
   ],
   "source": [
    "numeric_features = train_dataset.select_dtypes(include=[np.number])\n",
    "numeric_features.dtypes"
   ]
  },
  {
   "cell_type": "code",
   "execution_count": 41,
   "metadata": {},
   "outputs": [
    {
     "name": "stdout",
     "output_type": "stream",
     "text": [
      "(38,)\n",
      "SalePrice        1.000000\n",
      "OverallQual      0.790982\n",
      "GrLivArea        0.708624\n",
      "GarageCars       0.640409\n",
      "GarageArea       0.623431\n",
      "TotalBsmtSF      0.613581\n",
      "1stFlrSF         0.605852\n",
      "FullBath         0.560664\n",
      "TotRmsAbvGrd     0.533723\n",
      "YearBuilt        0.522897\n",
      "YearRemodAdd     0.507101\n",
      "GarageYrBlt      0.486362\n",
      "MasVnrArea       0.477493\n",
      "Fireplaces       0.466929\n",
      "BsmtFinSF1       0.386420\n",
      "LotFrontage      0.351799\n",
      "WoodDeckSF       0.324413\n",
      "2ndFlrSF         0.319334\n",
      "OpenPorchSF      0.315856\n",
      "HalfBath         0.284108\n",
      "LotArea          0.263843\n",
      "BsmtFullBath     0.227122\n",
      "BsmtUnfSF        0.214479\n",
      "BedroomAbvGr     0.168213\n",
      "ScreenPorch      0.111447\n",
      "PoolArea         0.092404\n",
      "MoSold           0.046432\n",
      "3SsnPorch        0.044584\n",
      "BsmtFinSF2      -0.011378\n",
      "BsmtHalfBath    -0.016844\n",
      "MiscVal         -0.021190\n",
      "Id              -0.021917\n",
      "LowQualFinSF    -0.025606\n",
      "YrSold          -0.028923\n",
      "OverallCond     -0.077856\n",
      "MSSubClass      -0.084284\n",
      "EnclosedPorch   -0.128578\n",
      "KitchenAbvGr    -0.135907\n",
      "Name: SalePrice, dtype: float64\n",
      " \n",
      "SalePrice      1.000000\n",
      "OverallQual    0.790982\n",
      "GrLivArea      0.708624\n",
      "GarageCars     0.640409\n",
      "GarageArea     0.623431\n",
      "Name: SalePrice, dtype: float64\n",
      " \n",
      "YrSold          -0.028923\n",
      "OverallCond     -0.077856\n",
      "MSSubClass      -0.084284\n",
      "EnclosedPorch   -0.128578\n",
      "KitchenAbvGr    -0.135907\n",
      "Name: SalePrice, dtype: float64\n"
     ]
    }
   ],
   "source": [
    "corr = numeric_features.corr()\n",
    "#print(corr['SalePrice'].shape)\n",
    "#print(corr['SalePrice'].sort_values(ascending=False))\n",
    "#print(' ')\n",
    "print(corr['SalePrice'].sort_values(ascending=False)[:5])\n",
    "print(' ')\n",
    "print(corr['SalePrice'].sort_values(ascending=False)[-5:])\n"
   ]
  },
  {
   "cell_type": "code",
   "execution_count": 43,
   "metadata": {},
   "outputs": [
    {
     "name": "stdout",
     "output_type": "stream",
     "text": [
      "             SalePrice\n",
      "OverallQual           \n",
      "1                50150\n",
      "2                60000\n",
      "3                86250\n",
      "4               108000\n",
      "5               133000\n",
      "6               160000\n",
      "7               200141\n",
      "8               269750\n",
      "9               345000\n",
      "10              432390\n",
      "(10, 1)\n"
     ]
    },
    {
     "data": {
      "image/png": "[encoded data removed]",
      "text/plain": [
       "<Figure size 432x288 with 1 Axes>"
      ]
     },
     "metadata": {
      "needs_background": "light"
     },
     "output_type": "display_data"
    }
   ],
   "source": [
    "quality_pivot = train_dataset.pivot_table(index = 'OverallQual', values='SalePrice', aggfunc=np.median)\n",
    "quality_pivot.plot(kind='bar', color='blue')\n",
    "plt.xlabel('overall quality')\n",
    "plt.ylabel('median sale price')\n",
    "plt.xticks(rotation=0)\n",
    "print(quality_pivot)\n",
    "print(quality_pivot.shape)"
   ]
  },
  {
   "cell_type": "code",
   "execution_count": 45,
   "metadata": {},
   "outputs": [
    {
     "data": {
      "text/plain": [
       "Text(0.5, 0, 'Above grade (ground) living area square feet')"
      ]
     },
     "execution_count": 45,
     "metadata": {},
     "output_type": "execute_result"
    },
    {
     "data": {
      "image/png": "[encoded data removed]",
      "text/plain": [
       "<Figure size 432x288 with 1 Axes>"
      ]
     },
     "metadata": {
      "needs_background": "light"
     },
     "output_type": "display_data"
    }
   ],
   "source": [
    "plt.scatter(x=train_dataset['GrLivArea'], y=np.log(train_dataset['SalePrice']))\n",
    "plt.ylabel('Sale Price')\n",
    "plt.xlabel('Above grade (ground) living area square feet')"
   ]
  },
  {
   "cell_type": "code",
   "execution_count": 46,
   "metadata": {},
   "outputs": [
    {
     "data": {
      "text/plain": [
       "Text(0.5, 0, 'garage area')"
      ]
     },
     "execution_count": 46,
     "metadata": {},
     "output_type": "execute_result"
    },
    {
     "data": {
      "image/png": "[encoded data removed]",
      "text/plain": [
       "<Figure size 432x288 with 1 Axes>"
      ]
     },
     "metadata": {
      "needs_background": "light"
     },
     "output_type": "display_data"
    }
   ],
   "source": [
    "plt.scatter(x=train_dataset['GarageArea'], y=np.log(train_dataset['SalePrice']))\n",
    "plt.ylabel('Sale Price')\n",
    "plt.xlabel('garage area')"
   ]
  },
  {
   "cell_type": "code",
   "execution_count": 47,
   "metadata": {},
   "outputs": [
    {
     "data": {
      "text/plain": [
       "Text(0.5, 0, 'garage area')"
      ]
     },
     "execution_count": 47,
     "metadata": {},
     "output_type": "execute_result"
    },
    {
     "data": {
      "image/png": "[encoded data removed]",
      "text/plain": [
       "<Figure size 432x288 with 1 Axes>"
      ]
     },
     "metadata": {
      "needs_background": "light"
     },
     "output_type": "display_data"
    }
   ],
   "source": [
    "train_dataset = train_dataset[train_dataset['GarageArea']<1200]\n",
    "plt.scatter(x=train_dataset['GarageArea'], y=np.log(train_dataset['SalePrice']))\n",
    "plt.ylabel('Sale Price')\n",
    "plt.xlabel('garage area')"
   ]
  },
  {
   "cell_type": "code",
   "execution_count": 53,
   "metadata": {},
   "outputs": [
    {
     "data": {
      "text/html": [
       "<div>\n",
       "<style scoped>\n",
       "    .dataframe tbody tr th:only-of-type {\n",
       "        vertical-align: middle;\n",
       "    }\n",
       "\n",
       "    .dataframe tbody tr th {\n",
       "        vertical-align: top;\n",
       "    }\n",
       "\n",
       "    .dataframe thead th {\n",
       "        text-align: right;\n",
       "    }\n",
       "</style>\n",
       "<table border=\"1\" class=\"dataframe\">\n",
       "  <thead>\n",
       "    <tr style=\"text-align: right;\">\n",
       "      <th></th>\n",
       "      <th>null count</th>\n",
       "    </tr>\n",
       "    <tr>\n",
       "      <th>Feature</th>\n",
       "      <th></th>\n",
       "    </tr>\n",
       "  </thead>\n",
       "  <tbody>\n",
       "    <tr>\n",
       "      <th>PoolQC</th>\n",
       "      <td>1449</td>\n",
       "    </tr>\n",
       "    <tr>\n",
       "      <th>MiscFeature</th>\n",
       "      <td>1402</td>\n",
       "    </tr>\n",
       "    <tr>\n",
       "      <th>Alley</th>\n",
       "      <td>1364</td>\n",
       "    </tr>\n",
       "    <tr>\n",
       "      <th>Fence</th>\n",
       "      <td>1174</td>\n",
       "    </tr>\n",
       "    <tr>\n",
       "      <th>FireplaceQu</th>\n",
       "      <td>689</td>\n",
       "    </tr>\n",
       "    <tr>\n",
       "      <th>LotFrontage</th>\n",
       "      <td>258</td>\n",
       "    </tr>\n",
       "    <tr>\n",
       "      <th>GarageCond</th>\n",
       "      <td>81</td>\n",
       "    </tr>\n",
       "    <tr>\n",
       "      <th>GarageType</th>\n",
       "      <td>81</td>\n",
       "    </tr>\n",
       "    <tr>\n",
       "      <th>GarageYrBlt</th>\n",
       "      <td>81</td>\n",
       "    </tr>\n",
       "    <tr>\n",
       "      <th>GarageFinish</th>\n",
       "      <td>81</td>\n",
       "    </tr>\n",
       "    <tr>\n",
       "      <th>GarageQual</th>\n",
       "      <td>81</td>\n",
       "    </tr>\n",
       "    <tr>\n",
       "      <th>BsmtExposure</th>\n",
       "      <td>38</td>\n",
       "    </tr>\n",
       "    <tr>\n",
       "      <th>BsmtFinType2</th>\n",
       "      <td>38</td>\n",
       "    </tr>\n",
       "    <tr>\n",
       "      <th>BsmtFinType1</th>\n",
       "      <td>37</td>\n",
       "    </tr>\n",
       "    <tr>\n",
       "      <th>BsmtCond</th>\n",
       "      <td>37</td>\n",
       "    </tr>\n",
       "    <tr>\n",
       "      <th>BsmtQual</th>\n",
       "      <td>37</td>\n",
       "    </tr>\n",
       "    <tr>\n",
       "      <th>MasVnrArea</th>\n",
       "      <td>8</td>\n",
       "    </tr>\n",
       "    <tr>\n",
       "      <th>MasVnrType</th>\n",
       "      <td>8</td>\n",
       "    </tr>\n",
       "    <tr>\n",
       "      <th>Electrical</th>\n",
       "      <td>1</td>\n",
       "    </tr>\n",
       "    <tr>\n",
       "      <th>Utilities</th>\n",
       "      <td>0</td>\n",
       "    </tr>\n",
       "    <tr>\n",
       "      <th>YearRemodAdd</th>\n",
       "      <td>0</td>\n",
       "    </tr>\n",
       "    <tr>\n",
       "      <th>MSSubClass</th>\n",
       "      <td>0</td>\n",
       "    </tr>\n",
       "    <tr>\n",
       "      <th>Foundation</th>\n",
       "      <td>0</td>\n",
       "    </tr>\n",
       "    <tr>\n",
       "      <th>ExterCond</th>\n",
       "      <td>0</td>\n",
       "    </tr>\n",
       "    <tr>\n",
       "      <th>ExterQual</th>\n",
       "      <td>0</td>\n",
       "    </tr>\n",
       "  </tbody>\n",
       "</table>\n",
       "</div>"
      ],
      "text/plain": [
       "              null count\n",
       "Feature                 \n",
       "PoolQC              1449\n",
       "MiscFeature         1402\n",
       "Alley               1364\n",
       "Fence               1174\n",
       "FireplaceQu          689\n",
       "LotFrontage          258\n",
       "GarageCond            81\n",
       "GarageType            81\n",
       "GarageYrBlt           81\n",
       "GarageFinish          81\n",
       "GarageQual            81\n",
       "BsmtExposure          38\n",
       "BsmtFinType2          38\n",
       "BsmtFinType1          37\n",
       "BsmtCond              37\n",
       "BsmtQual              37\n",
       "MasVnrArea             8\n",
       "MasVnrType             8\n",
       "Electrical             1\n",
       "Utilities              0\n",
       "YearRemodAdd           0\n",
       "MSSubClass             0\n",
       "Foundation             0\n",
       "ExterCond              0\n",
       "ExterQual              0"
      ]
     },
     "execution_count": 53,
     "metadata": {},
     "output_type": "execute_result"
    }
   ],
   "source": [
    "nulls = pd.DataFrame(train_dataset.isnull().sum().sort_values(ascending=False))[:25]\n",
    "nulls.columns = ['null count']\n",
    "nulls.index.name = 'Feature'\n",
    "nulls"
   ]
  },
  {
   "cell_type": "code",
   "execution_count": 57,
   "metadata": {},
   "outputs": [
    {
     "name": "stdout",
     "output_type": "stream",
     "text": [
      "     MSZoning Street Alley LotShape LandContour Utilities LotConfig LandSlope  \\\n",
      "0          RL   Pave   NaN      Reg         Lvl    AllPub    Inside       Gtl   \n",
      "1          RL   Pave   NaN      Reg         Lvl    AllPub       FR2       Gtl   \n",
      "2          RL   Pave   NaN      IR1         Lvl    AllPub    Inside       Gtl   \n",
      "3          RL   Pave   NaN      IR1         Lvl    AllPub    Corner       Gtl   \n",
      "4          RL   Pave   NaN      IR1         Lvl    AllPub       FR2       Gtl   \n",
      "5          RL   Pave   NaN      IR1         Lvl    AllPub    Inside       Gtl   \n",
      "6          RL   Pave   NaN      Reg         Lvl    AllPub    Inside       Gtl   \n",
      "7          RL   Pave   NaN      IR1         Lvl    AllPub    Corner       Gtl   \n",
      "8          RM   Pave   NaN      Reg         Lvl    AllPub    Inside       Gtl   \n",
      "9          RL   Pave   NaN      Reg         Lvl    AllPub    Corner       Gtl   \n",
      "10         RL   Pave   NaN      Reg         Lvl    AllPub    Inside       Gtl   \n",
      "11         RL   Pave   NaN      IR1         Lvl    AllPub    Inside       Gtl   \n",
      "12         RL   Pave   NaN      IR2         Lvl    AllPub    Inside       Gtl   \n",
      "13         RL   Pave   NaN      IR1         Lvl    AllPub    Inside       Gtl   \n",
      "14         RL   Pave   NaN      IR1         Lvl    AllPub    Corner       Gtl   \n",
      "15         RM   Pave   NaN      Reg         Lvl    AllPub    Corner       Gtl   \n",
      "16         RL   Pave   NaN      IR1         Lvl    AllPub   CulDSac       Gtl   \n",
      "17         RL   Pave   NaN      Reg         Lvl    AllPub    Inside       Gtl   \n",
      "18         RL   Pave   NaN      Reg         Lvl    AllPub    Inside       Gtl   \n",
      "19         RL   Pave   NaN      Reg         Lvl    AllPub    Inside       Gtl   \n",
      "20         RL   Pave   NaN      IR1         Lvl    AllPub    Corner       Gtl   \n",
      "21         RM   Pave  Grvl      Reg         Bnk    AllPub    Inside       Gtl   \n",
      "22         RL   Pave   NaN      Reg         Lvl    AllPub    Inside       Gtl   \n",
      "23         RM   Pave   NaN      Reg         Lvl    AllPub    Inside       Gtl   \n",
      "24         RL   Pave   NaN      IR1         Lvl    AllPub    Inside       Gtl   \n",
      "25         RL   Pave   NaN      Reg         Lvl    AllPub    Corner       Gtl   \n",
      "26         RL   Pave   NaN      Reg         Lvl    AllPub    Corner       Gtl   \n",
      "27         RL   Pave   NaN      Reg         Lvl    AllPub    Inside       Gtl   \n",
      "28         RL   Pave   NaN      IR1         Lvl    AllPub   CulDSac       Gtl   \n",
      "29         RM   Pave   NaN      IR1         Lvl    AllPub    Inside       Gtl   \n",
      "...       ...    ...   ...      ...         ...       ...       ...       ...   \n",
      "1430       RL   Pave   NaN      IR3         Lvl    AllPub    Inside       Gtl   \n",
      "1431       RL   Pave   NaN      IR1         Lvl    AllPub    Inside       Gtl   \n",
      "1432       RL   Pave  Grvl      Reg         Lvl    AllPub    Inside       Gtl   \n",
      "1433       RL   Pave   NaN      IR1         Lvl    AllPub    Inside       Gtl   \n",
      "1434       RL   Pave   NaN      Reg         Low    AllPub    Inside       Mod   \n",
      "1435       RL   Pave   NaN      Reg         Lvl    AllPub    Inside       Gtl   \n",
      "1436       RL   Pave   NaN      Reg         Lvl    AllPub       FR2       Gtl   \n",
      "1437       RL   Pave   NaN      Reg         Lvl    AllPub       FR2       Gtl   \n",
      "1438       RM   Pave   NaN      Reg         Lvl    AllPub    Inside       Gtl   \n",
      "1439       RL   Pave   NaN      Reg         Lvl    AllPub    Inside       Gtl   \n",
      "1440       RL   Pave   NaN      IR1         Bnk    AllPub    Inside       Mod   \n",
      "1441       RM   Pave   NaN      Reg         Lvl    AllPub    Inside       Gtl   \n",
      "1442       FV   Pave   NaN      Reg         Lvl    AllPub    Inside       Gtl   \n",
      "1443       RL   Pave   NaN      Reg         Lvl    AllPub    Inside       Gtl   \n",
      "1444       RL   Pave   NaN      Reg         Lvl    AllPub       FR2       Gtl   \n",
      "1445       RL   Pave   NaN      Reg         Lvl    AllPub    Inside       Gtl   \n",
      "1446       RL   Pave   NaN      IR1         Lvl    AllPub   CulDSac       Gtl   \n",
      "1447       RL   Pave   NaN      Reg         Lvl    AllPub    Inside       Gtl   \n",
      "1448       RL   Pave   NaN      Reg         Lvl    AllPub    Inside       Gtl   \n",
      "1449       RM   Pave   NaN      Reg         Lvl    AllPub    Inside       Gtl   \n",
      "1450       RL   Pave   NaN      Reg         Lvl    AllPub       FR2       Gtl   \n",
      "1451       RL   Pave   NaN      Reg         Lvl    AllPub    Inside       Gtl   \n",
      "1452       RM   Pave   NaN      Reg         Lvl    AllPub    Inside       Gtl   \n",
      "1453       RL   Pave   NaN      Reg         Lvl    AllPub    Inside       Gtl   \n",
      "1454       FV   Pave  Pave      Reg         Lvl    AllPub    Inside       Gtl   \n",
      "1455       RL   Pave   NaN      Reg         Lvl    AllPub    Inside       Gtl   \n",
      "1456       RL   Pave   NaN      Reg         Lvl    AllPub    Inside       Gtl   \n",
      "1457       RL   Pave   NaN      Reg         Lvl    AllPub    Inside       Gtl   \n",
      "1458       RL   Pave   NaN      Reg         Lvl    AllPub    Inside       Gtl   \n",
      "1459       RL   Pave   NaN      Reg         Lvl    AllPub    Inside       Gtl   \n",
      "\n",
      "     Neighborhood Condition1      ...      GarageType GarageFinish GarageQual  \\\n",
      "0         CollgCr       Norm      ...          Attchd          RFn         TA   \n",
      "1         Veenker      Feedr      ...          Attchd          RFn         TA   \n",
      "2         CollgCr       Norm      ...          Attchd          RFn         TA   \n",
      "3         Crawfor       Norm      ...          Detchd          Unf         TA   \n",
      "4         NoRidge       Norm      ...          Attchd          RFn         TA   \n",
      "5         Mitchel       Norm      ...          Attchd          Unf         TA   \n",
      "6         Somerst       Norm      ...          Attchd          RFn         TA   \n",
      "7          NWAmes       PosN      ...          Attchd          RFn         TA   \n",
      "8         OldTown     Artery      ...          Detchd          Unf         Fa   \n",
      "9         BrkSide     Artery      ...          Attchd          RFn         Gd   \n",
      "10         Sawyer       Norm      ...          Detchd          Unf         TA   \n",
      "11        NridgHt       Norm      ...         BuiltIn          Fin         TA   \n",
      "12         Sawyer       Norm      ...          Detchd          Unf         TA   \n",
      "13        CollgCr       Norm      ...          Attchd          RFn         TA   \n",
      "14          NAmes       Norm      ...          Attchd          RFn         TA   \n",
      "15        BrkSide       Norm      ...          Detchd          Unf         TA   \n",
      "16          NAmes       Norm      ...          Attchd          Fin         TA   \n",
      "17         Sawyer       Norm      ...         CarPort          Unf         TA   \n",
      "18        SawyerW       RRAe      ...          Detchd          Unf         TA   \n",
      "19          NAmes       Norm      ...          Attchd          Unf         TA   \n",
      "20        NridgHt       Norm      ...         BuiltIn          RFn         TA   \n",
      "21         IDOTRR       Norm      ...          Attchd          Unf         TA   \n",
      "22        CollgCr       Norm      ...          Attchd          RFn         TA   \n",
      "23        MeadowV       Norm      ...          Attchd          Unf         TA   \n",
      "24         Sawyer       Norm      ...          Attchd          Unf         TA   \n",
      "25        NridgHt       Norm      ...          Attchd          RFn         TA   \n",
      "26          NAmes       Norm      ...          Detchd          Unf         TA   \n",
      "27        NridgHt       Norm      ...          Attchd          RFn         TA   \n",
      "28          NAmes       Norm      ...          Attchd          RFn         TA   \n",
      "29        BrkSide      Feedr      ...          Detchd          Unf         Fa   \n",
      "...           ...        ...      ...             ...          ...        ...   \n",
      "1430      Gilbert       RRAn      ...         BuiltIn          Fin         TA   \n",
      "1431      NPkVill       Norm      ...          Attchd          RFn         TA   \n",
      "1432      OldTown       Norm      ...          Detchd          Unf         Fa   \n",
      "1433      Gilbert       Norm      ...          Attchd          Fin         TA   \n",
      "1434      Mitchel       Norm      ...          Attchd          RFn         TA   \n",
      "1435        NAmes       Norm      ...          Attchd          RFn         TA   \n",
      "1436        NAmes       Norm      ...          Detchd          Unf         TA   \n",
      "1437      NridgHt       Norm      ...          Attchd          Fin         TA   \n",
      "1438      OldTown     Artery      ...          Attchd          Unf         TA   \n",
      "1439       NWAmes       Norm      ...          Attchd          RFn         TA   \n",
      "1440      Crawfor       Norm      ...          Detchd          Fin         TA   \n",
      "1441      CollgCr       Norm      ...          Attchd          RFn         TA   \n",
      "1442      Somerst       Norm      ...          Attchd          Fin         TA   \n",
      "1443      BrkSide       Norm      ...          Detchd          Unf         Fa   \n",
      "1444      CollgCr       Norm      ...          Attchd          RFn         TA   \n",
      "1445       Sawyer       Norm      ...          Detchd          Unf         TA   \n",
      "1446      Mitchel       Norm      ...          Attchd          Unf         TA   \n",
      "1447      CollgCr       Norm      ...          Attchd          RFn         TA   \n",
      "1448      Edwards       Norm      ...          Detchd          Unf         Fa   \n",
      "1449      MeadowV       Norm      ...             NaN          NaN        NaN   \n",
      "1450        NAmes       Norm      ...             NaN          NaN        NaN   \n",
      "1451      Somerst       Norm      ...          Attchd          Fin         TA   \n",
      "1452      Edwards       Norm      ...         Basment          Fin         TA   \n",
      "1453      Mitchel       Norm      ...             NaN          NaN        NaN   \n",
      "1454      Somerst       Norm      ...          Attchd          RFn         TA   \n",
      "1455      Gilbert       Norm      ...          Attchd          RFn         TA   \n",
      "1456       NWAmes       Norm      ...          Attchd          Unf         TA   \n",
      "1457      Crawfor       Norm      ...          Attchd          RFn         TA   \n",
      "1458        NAmes       Norm      ...          Attchd          Unf         TA   \n",
      "1459      Edwards       Norm      ...          Attchd          Fin         TA   \n",
      "\n",
      "     GarageCond PavedDrive PoolQC  Fence MiscFeature SaleType SaleCondition  \n",
      "0            TA          Y    NaN    NaN         NaN       WD        Normal  \n",
      "1            TA          Y    NaN    NaN         NaN       WD        Normal  \n",
      "2            TA          Y    NaN    NaN         NaN       WD        Normal  \n",
      "3            TA          Y    NaN    NaN         NaN       WD       Abnorml  \n",
      "4            TA          Y    NaN    NaN         NaN       WD        Normal  \n",
      "5            TA          Y    NaN  MnPrv        Shed       WD        Normal  \n",
      "6            TA          Y    NaN    NaN         NaN       WD        Normal  \n",
      "7            TA          Y    NaN    NaN        Shed       WD        Normal  \n",
      "8            TA          Y    NaN    NaN         NaN       WD       Abnorml  \n",
      "9            TA          Y    NaN    NaN         NaN       WD        Normal  \n",
      "10           TA          Y    NaN    NaN         NaN       WD        Normal  \n",
      "11           TA          Y    NaN    NaN         NaN      New       Partial  \n",
      "12           TA          Y    NaN    NaN         NaN       WD        Normal  \n",
      "13           TA          Y    NaN    NaN         NaN      New       Partial  \n",
      "14           TA          Y    NaN   GdWo         NaN       WD        Normal  \n",
      "15           TA          Y    NaN  GdPrv         NaN       WD        Normal  \n",
      "16           TA          Y    NaN    NaN        Shed       WD        Normal  \n",
      "17           TA          Y    NaN    NaN        Shed       WD        Normal  \n",
      "18           TA          Y    NaN    NaN         NaN       WD        Normal  \n",
      "19           TA          Y    NaN  MnPrv         NaN      COD       Abnorml  \n",
      "20           TA          Y    NaN    NaN         NaN      New       Partial  \n",
      "21           TA          N    NaN  GdPrv         NaN       WD        Normal  \n",
      "22           TA          Y    NaN    NaN         NaN       WD        Normal  \n",
      "23           TA          Y    NaN    NaN         NaN       WD        Normal  \n",
      "24           TA          Y    NaN  MnPrv         NaN       WD        Normal  \n",
      "25           TA          Y    NaN    NaN         NaN       WD        Normal  \n",
      "26           TA          Y    NaN    NaN         NaN       WD        Normal  \n",
      "27           TA          Y    NaN    NaN         NaN       WD        Normal  \n",
      "28           TA          Y    NaN    NaN         NaN       WD        Normal  \n",
      "29           TA          Y    NaN    NaN         NaN       WD        Normal  \n",
      "...         ...        ...    ...    ...         ...      ...           ...  \n",
      "1430         TA          Y    NaN    NaN         NaN       WD        Normal  \n",
      "1431         TA          Y    NaN    NaN         NaN       WD        Normal  \n",
      "1432         Fa          Y    NaN    NaN         NaN       WD        Normal  \n",
      "1433         TA          Y    NaN    NaN         NaN       WD        Normal  \n",
      "1434         TA          P    NaN    NaN         NaN       WD        Normal  \n",
      "1435         TA          Y    NaN  GdPrv         NaN      COD       Abnorml  \n",
      "1436         TA          Y    NaN   GdWo         NaN       WD        Normal  \n",
      "1437         TA          Y    NaN    NaN         NaN      New       Partial  \n",
      "1438         TA          Y    NaN  MnPrv         NaN       WD        Normal  \n",
      "1439         TA          Y    NaN    NaN         NaN       WD        Normal  \n",
      "1440         TA          Y    NaN    NaN         NaN       WD        Normal  \n",
      "1441         TA          Y    NaN    NaN         NaN       WD        Normal  \n",
      "1442         TA          Y    NaN    NaN         NaN       WD        Normal  \n",
      "1443         Po          P    NaN    NaN         NaN       WD        Normal  \n",
      "1444         TA          Y    NaN    NaN         NaN       WD        Normal  \n",
      "1445         TA          Y    NaN    NaN         NaN       WD        Normal  \n",
      "1446         TA          P    NaN    NaN         NaN       WD        Normal  \n",
      "1447         TA          Y    NaN    NaN         NaN       WD        Normal  \n",
      "1448         TA          Y    NaN   GdWo         NaN       WD        Normal  \n",
      "1449        NaN          Y    NaN    NaN         NaN       WD       Abnorml  \n",
      "1450        NaN          Y    NaN    NaN         NaN       WD        Normal  \n",
      "1451         TA          Y    NaN    NaN         NaN      New       Partial  \n",
      "1452         TA          Y    NaN    NaN         NaN       WD        Normal  \n",
      "1453        NaN          Y    NaN    NaN         NaN       WD       Abnorml  \n",
      "1454         TA          Y    NaN    NaN         NaN       WD        Normal  \n",
      "1455         TA          Y    NaN    NaN         NaN       WD        Normal  \n",
      "1456         TA          Y    NaN  MnPrv         NaN       WD        Normal  \n",
      "1457         TA          Y    NaN  GdPrv        Shed       WD        Normal  \n",
      "1458         TA          Y    NaN    NaN         NaN       WD        Normal  \n",
      "1459         TA          Y    NaN    NaN         NaN       WD        Normal  \n",
      "\n",
      "[1460 rows x 43 columns]\n"
     ]
    },
    {
     "data": {
      "text/html": [
       "<div>\n",
       "<style scoped>\n",
       "    .dataframe tbody tr th:only-of-type {\n",
       "        vertical-align: middle;\n",
       "    }\n",
       "\n",
       "    .dataframe tbody tr th {\n",
       "        vertical-align: top;\n",
       "    }\n",
       "\n",
       "    .dataframe thead th {\n",
       "        text-align: right;\n",
       "    }\n",
       "</style>\n",
       "<table border=\"1\" class=\"dataframe\">\n",
       "  <thead>\n",
       "    <tr style=\"text-align: right;\">\n",
       "      <th></th>\n",
       "      <th>MSZoning</th>\n",
       "      <th>Street</th>\n",
       "      <th>Alley</th>\n",
       "      <th>LotShape</th>\n",
       "      <th>LandContour</th>\n",
       "      <th>Utilities</th>\n",
       "      <th>LotConfig</th>\n",
       "      <th>LandSlope</th>\n",
       "      <th>Neighborhood</th>\n",
       "      <th>Condition1</th>\n",
       "      <th>...</th>\n",
       "      <th>GarageType</th>\n",
       "      <th>GarageFinish</th>\n",
       "      <th>GarageQual</th>\n",
       "      <th>GarageCond</th>\n",
       "      <th>PavedDrive</th>\n",
       "      <th>PoolQC</th>\n",
       "      <th>Fence</th>\n",
       "      <th>MiscFeature</th>\n",
       "      <th>SaleType</th>\n",
       "      <th>SaleCondition</th>\n",
       "    </tr>\n",
       "  </thead>\n",
       "  <tbody>\n",
       "    <tr>\n",
       "      <th>count</th>\n",
       "      <td>1460</td>\n",
       "      <td>1460</td>\n",
       "      <td>91</td>\n",
       "      <td>1460</td>\n",
       "      <td>1460</td>\n",
       "      <td>1460</td>\n",
       "      <td>1460</td>\n",
       "      <td>1460</td>\n",
       "      <td>1460</td>\n",
       "      <td>1460</td>\n",
       "      <td>...</td>\n",
       "      <td>1379</td>\n",
       "      <td>1379</td>\n",
       "      <td>1379</td>\n",
       "      <td>1379</td>\n",
       "      <td>1460</td>\n",
       "      <td>7</td>\n",
       "      <td>281</td>\n",
       "      <td>54</td>\n",
       "      <td>1460</td>\n",
       "      <td>1460</td>\n",
       "    </tr>\n",
       "    <tr>\n",
       "      <th>unique</th>\n",
       "      <td>5</td>\n",
       "      <td>2</td>\n",
       "      <td>2</td>\n",
       "      <td>4</td>\n",
       "      <td>4</td>\n",
       "      <td>2</td>\n",
       "      <td>5</td>\n",
       "      <td>3</td>\n",
       "      <td>25</td>\n",
       "      <td>9</td>\n",
       "      <td>...</td>\n",
       "      <td>6</td>\n",
       "      <td>3</td>\n",
       "      <td>5</td>\n",
       "      <td>5</td>\n",
       "      <td>3</td>\n",
       "      <td>3</td>\n",
       "      <td>4</td>\n",
       "      <td>4</td>\n",
       "      <td>9</td>\n",
       "      <td>6</td>\n",
       "    </tr>\n",
       "    <tr>\n",
       "      <th>top</th>\n",
       "      <td>RL</td>\n",
       "      <td>Pave</td>\n",
       "      <td>Grvl</td>\n",
       "      <td>Reg</td>\n",
       "      <td>Lvl</td>\n",
       "      <td>AllPub</td>\n",
       "      <td>Inside</td>\n",
       "      <td>Gtl</td>\n",
       "      <td>NAmes</td>\n",
       "      <td>Norm</td>\n",
       "      <td>...</td>\n",
       "      <td>Attchd</td>\n",
       "      <td>Unf</td>\n",
       "      <td>TA</td>\n",
       "      <td>TA</td>\n",
       "      <td>Y</td>\n",
       "      <td>Gd</td>\n",
       "      <td>MnPrv</td>\n",
       "      <td>Shed</td>\n",
       "      <td>WD</td>\n",
       "      <td>Normal</td>\n",
       "    </tr>\n",
       "    <tr>\n",
       "      <th>freq</th>\n",
       "      <td>1151</td>\n",
       "      <td>1454</td>\n",
       "      <td>50</td>\n",
       "      <td>925</td>\n",
       "      <td>1311</td>\n",
       "      <td>1459</td>\n",
       "      <td>1052</td>\n",
       "      <td>1382</td>\n",
       "      <td>225</td>\n",
       "      <td>1260</td>\n",
       "      <td>...</td>\n",
       "      <td>870</td>\n",
       "      <td>605</td>\n",
       "      <td>1311</td>\n",
       "      <td>1326</td>\n",
       "      <td>1340</td>\n",
       "      <td>3</td>\n",
       "      <td>157</td>\n",
       "      <td>49</td>\n",
       "      <td>1267</td>\n",
       "      <td>1198</td>\n",
       "    </tr>\n",
       "  </tbody>\n",
       "</table>\n",
       "<p>4 rows × 43 columns</p>\n",
       "</div>"
      ],
      "text/plain": [
       "       MSZoning Street Alley LotShape LandContour Utilities LotConfig  \\\n",
       "count      1460   1460    91     1460        1460      1460      1460   \n",
       "unique        5      2     2        4           4         2         5   \n",
       "top          RL   Pave  Grvl      Reg         Lvl    AllPub    Inside   \n",
       "freq       1151   1454    50      925        1311      1459      1052   \n",
       "\n",
       "       LandSlope Neighborhood Condition1      ...      GarageType  \\\n",
       "count       1460         1460       1460      ...            1379   \n",
       "unique         3           25          9      ...               6   \n",
       "top          Gtl        NAmes       Norm      ...          Attchd   \n",
       "freq        1382          225       1260      ...             870   \n",
       "\n",
       "       GarageFinish GarageQual GarageCond PavedDrive PoolQC  Fence  \\\n",
       "count          1379       1379       1379       1460      7    281   \n",
       "unique            3          5          5          3      3      4   \n",
       "top             Unf         TA         TA          Y     Gd  MnPrv   \n",
       "freq            605       1311       1326       1340      3    157   \n",
       "\n",
       "       MiscFeature SaleType SaleCondition  \n",
       "count           54     1460          1460  \n",
       "unique           4        9             6  \n",
       "top           Shed       WD        Normal  \n",
       "freq            49     1267          1198  \n",
       "\n",
       "[4 rows x 43 columns]"
      ]
     },
     "execution_count": 57,
     "metadata": {},
     "output_type": "execute_result"
    }
   ],
   "source": [
    "categoricals = train_dataset.select_dtypes(exclude=[np.number])\n",
    "print(categoricals)\n",
    "categoricals.describe()"
   ]
  },
  {
   "cell_type": "code",
   "execution_count": 56,
   "metadata": {},
   "outputs": [
    {
     "name": "stdout",
     "output_type": "stream",
     "text": [
      "Encoded: \n",
      "\n",
      "1    1454\n",
      "0       6\n",
      "Name: enc_street, dtype: int64\n"
     ]
    }
   ],
   "source": [
    "train_dataset['enc_street'] = pd.get_dummies(train_dataset.Street, drop_first = True)\n",
    "test_dataset['enc_street'] = pd.get_dummies(test_dataset.Street, drop_first = True)\n",
    "print('Encoded: \\n')\n",
    "print(train_dataset.enc_street.value_counts())"
   ]
  },
  {
   "cell_type": "code",
   "execution_count": 60,
   "metadata": {},
   "outputs": [
    {
     "data": {
      "text/plain": [
       "0"
      ]
     },
     "execution_count": 60,
     "metadata": {},
     "output_type": "execute_result"
    }
   ],
   "source": [
    "#the interpolate function fills every N/A spaces with the median of the rest data\n",
    "data = train_dataset.select_dtypes(include=[np.number]).interpolate().dropna()\n",
    "sum(data.isnull().sum() != 0)"
   ]
  },
  {
   "cell_type": "code",
   "execution_count": 61,
   "metadata": {},
   "outputs": [],
   "source": [
    "y = np.log(train_dataset.SalePrice)\n",
    "x = data.drop(['SalePrice', 'Id'], axis=1)"
   ]
  },
  {
   "cell_type": "code",
   "execution_count": 62,
   "metadata": {},
   "outputs": [],
   "source": [
    "x_train, x_test, y_train, y_test = train_test_split(x, y, random_state=42, test_size=0.3)"
   ]
  },
  {
   "cell_type": "code",
   "execution_count": 72,
   "metadata": {},
   "outputs": [],
   "source": [
    "from sklearn import linear_model\n",
    "from sklearn.metrics import mean_squared_error\n",
    "\n",
    "lr = linear_model.LinearRegression()\n",
    "model = lr.fit(x_train, y_train)\n"
   ]
  },
  {
   "cell_type": "code",
   "execution_count": 73,
   "metadata": {},
   "outputs": [
    {
     "name": "stdout",
     "output_type": "stream",
     "text": [
      "R^2 is: \n",
      " 0.8703640899237441\n",
      "RMSE is: \n",
      " 0.02199223498991864\n"
     ]
    }
   ],
   "source": [
    "print(\"R^2 is: \\n\", model.score(x_test, y_test))\n",
    "predictions = model.predict(x_test)\n",
    "print(\"RMSE is: \\n\", mean_squared_error(y_test, predictions))"
   ]
  },
  {
   "cell_type": "code",
   "execution_count": 74,
   "metadata": {},
   "outputs": [
    {
     "data": {
      "text/plain": [
       "Text(0.5, 1.0, 'Linear Regression model')"
      ]
     },
     "execution_count": 74,
     "metadata": {},
     "output_type": "execute_result"
    },
    {
     "data": {
      "image/png": "[encoded data removed]",
      "text/plain": [
       "<Figure size 432x288 with 1 Axes>"
      ]
     },
     "metadata": {
      "needs_background": "light"
     },
     "output_type": "display_data"
    }
   ],
   "source": [
    "actual_values = y_test\n",
    "plt.scatter(predictions, actual_values, alpha=.7, color='green')\n",
    "plt.xlabel('predicted price')\n",
    "plt.ylabel('actual price')\n",
    "plt.title('Linear Regression model')"
   ]
  },
  {
   "cell_type": "code",
   "execution_count": 80,
   "metadata": {},
   "outputs": [
    {
     "name": "stdout",
     "output_type": "stream",
     "text": [
      "Original predictions are: \n",
      " [11.67519369 11.68005038 12.03330896 12.18493951 12.10439456] \n",
      "\n",
      "final predictions are: \n",
      " [117617.56774986 118190.18945016 168267.28304477 195817.72035267\n",
      " 180664.06021339]\n"
     ]
    },
    {
     "data": {
      "text/html": [
       "<div>\n",
       "<style scoped>\n",
       "    .dataframe tbody tr th:only-of-type {\n",
       "        vertical-align: middle;\n",
       "    }\n",
       "\n",
       "    .dataframe tbody tr th {\n",
       "        vertical-align: top;\n",
       "    }\n",
       "\n",
       "    .dataframe thead th {\n",
       "        text-align: right;\n",
       "    }\n",
       "</style>\n",
       "<table border=\"1\" class=\"dataframe\">\n",
       "  <thead>\n",
       "    <tr style=\"text-align: right;\">\n",
       "      <th></th>\n",
       "      <th>Id</th>\n",
       "      <th>SalePrice</th>\n",
       "    </tr>\n",
       "  </thead>\n",
       "  <tbody>\n",
       "    <tr>\n",
       "      <th>0</th>\n",
       "      <td>1461</td>\n",
       "      <td>117617.567750</td>\n",
       "    </tr>\n",
       "    <tr>\n",
       "      <th>1</th>\n",
       "      <td>1462</td>\n",
       "      <td>118190.189450</td>\n",
       "    </tr>\n",
       "    <tr>\n",
       "      <th>2</th>\n",
       "      <td>1463</td>\n",
       "      <td>168267.283045</td>\n",
       "    </tr>\n",
       "    <tr>\n",
       "      <th>3</th>\n",
       "      <td>1464</td>\n",
       "      <td>195817.720353</td>\n",
       "    </tr>\n",
       "    <tr>\n",
       "      <th>4</th>\n",
       "      <td>1465</td>\n",
       "      <td>180664.060213</td>\n",
       "    </tr>\n",
       "  </tbody>\n",
       "</table>\n",
       "</div>"
      ],
      "text/plain": [
       "     Id      SalePrice\n",
       "0  1461  117617.567750\n",
       "1  1462  118190.189450\n",
       "2  1463  168267.283045\n",
       "3  1464  195817.720353\n",
       "4  1465  180664.060213"
      ]
     },
     "execution_count": 80,
     "metadata": {},
     "output_type": "execute_result"
    }
   ],
   "source": [
    "submission = pd.DataFrame()\n",
    "submission['Id'] = test_dataset.Id\n",
    "feats = test_dataset.select_dtypes(include=[np.number]).drop(['Id'], axis=1).interpolate()\n",
    "predicts = model.predict(feats)\n",
    "final_predicts = np.exp(predicts) #exp because np.log for labels were used to train model\n",
    "print('Original predictions are: \\n', predicts[:5], '\\n')\n",
    "print('final predictions are: \\n', final_predicts[:5])\n",
    "submission['SalePrice'] = final_predicts\n",
    "submission.head()"
   ]
  },
  {
   "cell_type": "code",
   "execution_count": 81,
   "metadata": {},
   "outputs": [],
   "source": [
    "submission.to_csv('submission1.csv', index=False)"
   ]
  },
  {
   "cell_type": "code",
   "execution_count": null,
   "metadata": {},
   "outputs": [],
   "source": []
  }
 ],
 "metadata": {
  "kernelspec": {
   "display_name": "Python 3",
   "language": "python",
   "name": "python3"
  },
  "language_info": {
   "codemirror_mode": {
    "name": "ipython",
    "version": 3
   },
   "file_extension": ".py",
   "mimetype": "text/x-python",
   "name": "python",
   "nbconvert_exporter": "python",
   "pygments_lexer": "ipython3",
   "version": "3.7.1"
  }
 },
 "nbformat": 4,
 "nbformat_minor": 2
}
